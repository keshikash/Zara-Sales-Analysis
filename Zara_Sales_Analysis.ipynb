{
  "nbformat": 4,
  "nbformat_minor": 0,
  "metadata": {
    "colab": {
      "provenance": [],
      "collapsed_sections": [
        "l7K1G2bGdNdg",
        "BD8udl4jdpu9",
        "tbtkzDh3eGfy",
        "K-4KKuvMefAT",
        "MSn7SGGFesce",
        "x30T_vlZe7GK",
        "CUzOVDCofIWz",
        "yMmH-Wt7fUUq",
        "ZS8C2p-YfbTX"
      ]
    },
    "kernelspec": {
      "name": "python3",
      "display_name": "Python 3"
    },
    "language_info": {
      "name": "python"
    }
  },
  "cells": [
    {
      "cell_type": "markdown",
      "source": [
        "# Zara Sales Data Cleaning and EDA"
      ],
      "metadata": {
        "id": "K9hOfneeER1u"
      }
    },
    {
      "cell_type": "markdown",
      "source": [
        "This notebook shows end-to-end data preprocessing, outlier handling, and exploratory analysis of a Zara sales dataset."
      ],
      "metadata": {
        "id": "ZuI4SowbdEFL"
      }
    },
    {
      "cell_type": "markdown",
      "source": [
        "## 📦 1. Download and Load the Dataset"
      ],
      "metadata": {
        "id": "l7K1G2bGdNdg"
      }
    },
    {
      "cell_type": "code",
      "execution_count": 1,
      "metadata": {
        "colab": {
          "base_uri": "https://localhost:8080/"
        },
        "id": "mRZBYUrNH-7-",
        "outputId": "70fab14f-61e0-40cc-d2ef-8591eaa2b165"
      },
      "outputs": [
        {
          "output_type": "stream",
          "name": "stdout",
          "text": [
            "Downloading from https://www.kaggle.com/api/v1/datasets/download/xontoloyo/data-penjualan-zara?dataset_version_number=1...\n"
          ]
        },
        {
          "output_type": "stream",
          "name": "stderr",
          "text": [
            "100%|██████████| 16.8k/16.8k [00:00<00:00, 16.9MB/s]"
          ]
        },
        {
          "output_type": "stream",
          "name": "stdout",
          "text": [
            "Extracting files...\n",
            "Path to dataset files: /root/.cache/kagglehub/datasets/xontoloyo/data-penjualan-zara/versions/1\n"
          ]
        },
        {
          "output_type": "stream",
          "name": "stderr",
          "text": [
            "\n"
          ]
        }
      ],
      "source": [
        "import kagglehub\n",
        "\n",
        "path = kagglehub.dataset_download(\"xontoloyo/data-penjualan-zara\")\n",
        "\n",
        "print(\"Path to dataset files:\", path)"
      ]
    },
    {
      "cell_type": "code",
      "source": [
        "import pandas as pd\n",
        "import os\n",
        "import glob\n",
        "\n",
        "df_path = '/root/.cache/kagglehub/datasets/xontoloyo/data-penjualan-zara/versions/1'\n",
        "csv_files = glob.glob(os.path.join(df_path, '*.csv'))\n",
        "print(\"CSV files:\", csv_files)\n",
        "\n",
        "if csv_files:\n",
        "  df = pd.read_csv(csv_files[0], delimiter=';')\n",
        "else:\n",
        "  print(\"N/A\")"
      ],
      "metadata": {
        "colab": {
          "base_uri": "https://localhost:8080/"
        },
        "id": "IsuhRhiDIgK9",
        "outputId": "c7dd416b-c506-4672-a831-2bd3e7445aa9"
      },
      "execution_count": 2,
      "outputs": [
        {
          "output_type": "stream",
          "name": "stdout",
          "text": [
            "CSV files: ['/root/.cache/kagglehub/datasets/xontoloyo/data-penjualan-zara/versions/1/zara.csv']\n"
          ]
        }
      ]
    },
    {
      "cell_type": "markdown",
      "source": [
        "Backup original"
      ],
      "metadata": {
        "id": "yJZRA4sVdhrG"
      }
    },
    {
      "cell_type": "code",
      "source": [
        "df.to_csv('Zara_Sales_original.csv', index = False)"
      ],
      "metadata": {
        "id": "sOQQ-Fsn9Ozl"
      },
      "execution_count": 3,
      "outputs": []
    },
    {
      "cell_type": "markdown",
      "source": [
        "### ✅ What we gain:\n",
        "- Automatically download the dataset.\n",
        "- Load it into a DataFrame for exploration."
      ],
      "metadata": {
        "id": "9wtL7xOldnUA"
      }
    },
    {
      "cell_type": "markdown",
      "source": [
        "## 🧾 2. Inspect and Understand the Data"
      ],
      "metadata": {
        "id": "BD8udl4jdpu9"
      }
    },
    {
      "cell_type": "code",
      "source": [
        "df.head()"
      ],
      "metadata": {
        "colab": {
          "base_uri": "https://localhost:8080/",
          "height": 556
        },
        "id": "mQ0LkJK9KL_P",
        "outputId": "47a0a554-c954-4e42-b64c-433f9e248d45"
      },
      "execution_count": 4,
      "outputs": [
        {
          "output_type": "execute_result",
          "data": {
            "text/plain": [
              "   Product ID Product Position Promotion Product Category Seasonal  \\\n",
              "0      185102            Aisle        No         Clothing       No   \n",
              "1      188771            Aisle        No         Clothing       No   \n",
              "2      180176          End-cap       Yes         Clothing      Yes   \n",
              "3      112917            Aisle       Yes         Clothing      Yes   \n",
              "4      192936          End-cap        No         Clothing      Yes   \n",
              "\n",
              "   Sales Volume brand                                                url  \\\n",
              "0          2823  Zara  https://www.zara.com/us/en/basic-puffer-jacket...   \n",
              "1           654  Zara  https://www.zara.com/us/en/tuxedo-jacket-p0889...   \n",
              "2          2220  Zara  https://www.zara.com/us/en/slim-fit-suit-jacke...   \n",
              "3          1568  Zara  https://www.zara.com/us/en/stretch-suit-jacket...   \n",
              "4          2942  Zara  https://www.zara.com/us/en/double-faced-jacket...   \n",
              "\n",
              "                sku                  name  \\\n",
              "0   272145190-250-2   BASIC PUFFER JACKET   \n",
              "1  324052738-800-46         TUXEDO JACKET   \n",
              "2  335342680-800-44  SLIM FIT SUIT JACKET   \n",
              "3  328303236-420-44   STRETCH SUIT JACKET   \n",
              "4   312368260-800-2   DOUBLE FACED JACKET   \n",
              "\n",
              "                                         description   price currency  \\\n",
              "0  Puffer jacket made of tear-resistant ripstop f...   19.99      USD   \n",
              "1  Straight fit blazer. Pointed lapel collar and ...  169.00      USD   \n",
              "2  Slim fit jacket. Notched lapel collar. Long sl...  129.00      USD   \n",
              "3  Slim fit jacket made of viscose blend fabric. ...  129.00      USD   \n",
              "4  Jacket made of faux leather faux shearling wit...  139.00      USD   \n",
              "\n",
              "                   scraped_at    terms section  \n",
              "0  2024-02-19T08:50:05.654618  jackets     MAN  \n",
              "1  2024-02-19T08:50:06.590930  jackets     MAN  \n",
              "2  2024-02-19T08:50:07.301419  jackets     MAN  \n",
              "3  2024-02-19T08:50:07.882922  jackets     MAN  \n",
              "4  2024-02-19T08:50:08.453847  jackets     MAN  "
            ],
            "text/html": [
              "\n",
              "  <div id=\"df-b0521fe5-d056-4103-a914-2e3cf5714b5b\" class=\"colab-df-container\">\n",
              "    <div>\n",
              "<style scoped>\n",
              "    .dataframe tbody tr th:only-of-type {\n",
              "        vertical-align: middle;\n",
              "    }\n",
              "\n",
              "    .dataframe tbody tr th {\n",
              "        vertical-align: top;\n",
              "    }\n",
              "\n",
              "    .dataframe thead th {\n",
              "        text-align: right;\n",
              "    }\n",
              "</style>\n",
              "<table border=\"1\" class=\"dataframe\">\n",
              "  <thead>\n",
              "    <tr style=\"text-align: right;\">\n",
              "      <th></th>\n",
              "      <th>Product ID</th>\n",
              "      <th>Product Position</th>\n",
              "      <th>Promotion</th>\n",
              "      <th>Product Category</th>\n",
              "      <th>Seasonal</th>\n",
              "      <th>Sales Volume</th>\n",
              "      <th>brand</th>\n",
              "      <th>url</th>\n",
              "      <th>sku</th>\n",
              "      <th>name</th>\n",
              "      <th>description</th>\n",
              "      <th>price</th>\n",
              "      <th>currency</th>\n",
              "      <th>scraped_at</th>\n",
              "      <th>terms</th>\n",
              "      <th>section</th>\n",
              "    </tr>\n",
              "  </thead>\n",
              "  <tbody>\n",
              "    <tr>\n",
              "      <th>0</th>\n",
              "      <td>185102</td>\n",
              "      <td>Aisle</td>\n",
              "      <td>No</td>\n",
              "      <td>Clothing</td>\n",
              "      <td>No</td>\n",
              "      <td>2823</td>\n",
              "      <td>Zara</td>\n",
              "      <td>https://www.zara.com/us/en/basic-puffer-jacket...</td>\n",
              "      <td>272145190-250-2</td>\n",
              "      <td>BASIC PUFFER JACKET</td>\n",
              "      <td>Puffer jacket made of tear-resistant ripstop f...</td>\n",
              "      <td>19.99</td>\n",
              "      <td>USD</td>\n",
              "      <td>2024-02-19T08:50:05.654618</td>\n",
              "      <td>jackets</td>\n",
              "      <td>MAN</td>\n",
              "    </tr>\n",
              "    <tr>\n",
              "      <th>1</th>\n",
              "      <td>188771</td>\n",
              "      <td>Aisle</td>\n",
              "      <td>No</td>\n",
              "      <td>Clothing</td>\n",
              "      <td>No</td>\n",
              "      <td>654</td>\n",
              "      <td>Zara</td>\n",
              "      <td>https://www.zara.com/us/en/tuxedo-jacket-p0889...</td>\n",
              "      <td>324052738-800-46</td>\n",
              "      <td>TUXEDO JACKET</td>\n",
              "      <td>Straight fit blazer. Pointed lapel collar and ...</td>\n",
              "      <td>169.00</td>\n",
              "      <td>USD</td>\n",
              "      <td>2024-02-19T08:50:06.590930</td>\n",
              "      <td>jackets</td>\n",
              "      <td>MAN</td>\n",
              "    </tr>\n",
              "    <tr>\n",
              "      <th>2</th>\n",
              "      <td>180176</td>\n",
              "      <td>End-cap</td>\n",
              "      <td>Yes</td>\n",
              "      <td>Clothing</td>\n",
              "      <td>Yes</td>\n",
              "      <td>2220</td>\n",
              "      <td>Zara</td>\n",
              "      <td>https://www.zara.com/us/en/slim-fit-suit-jacke...</td>\n",
              "      <td>335342680-800-44</td>\n",
              "      <td>SLIM FIT SUIT JACKET</td>\n",
              "      <td>Slim fit jacket. Notched lapel collar. Long sl...</td>\n",
              "      <td>129.00</td>\n",
              "      <td>USD</td>\n",
              "      <td>2024-02-19T08:50:07.301419</td>\n",
              "      <td>jackets</td>\n",
              "      <td>MAN</td>\n",
              "    </tr>\n",
              "    <tr>\n",
              "      <th>3</th>\n",
              "      <td>112917</td>\n",
              "      <td>Aisle</td>\n",
              "      <td>Yes</td>\n",
              "      <td>Clothing</td>\n",
              "      <td>Yes</td>\n",
              "      <td>1568</td>\n",
              "      <td>Zara</td>\n",
              "      <td>https://www.zara.com/us/en/stretch-suit-jacket...</td>\n",
              "      <td>328303236-420-44</td>\n",
              "      <td>STRETCH SUIT JACKET</td>\n",
              "      <td>Slim fit jacket made of viscose blend fabric. ...</td>\n",
              "      <td>129.00</td>\n",
              "      <td>USD</td>\n",
              "      <td>2024-02-19T08:50:07.882922</td>\n",
              "      <td>jackets</td>\n",
              "      <td>MAN</td>\n",
              "    </tr>\n",
              "    <tr>\n",
              "      <th>4</th>\n",
              "      <td>192936</td>\n",
              "      <td>End-cap</td>\n",
              "      <td>No</td>\n",
              "      <td>Clothing</td>\n",
              "      <td>Yes</td>\n",
              "      <td>2942</td>\n",
              "      <td>Zara</td>\n",
              "      <td>https://www.zara.com/us/en/double-faced-jacket...</td>\n",
              "      <td>312368260-800-2</td>\n",
              "      <td>DOUBLE FACED JACKET</td>\n",
              "      <td>Jacket made of faux leather faux shearling wit...</td>\n",
              "      <td>139.00</td>\n",
              "      <td>USD</td>\n",
              "      <td>2024-02-19T08:50:08.453847</td>\n",
              "      <td>jackets</td>\n",
              "      <td>MAN</td>\n",
              "    </tr>\n",
              "  </tbody>\n",
              "</table>\n",
              "</div>\n",
              "    <div class=\"colab-df-buttons\">\n",
              "\n",
              "  <div class=\"colab-df-container\">\n",
              "    <button class=\"colab-df-convert\" onclick=\"convertToInteractive('df-b0521fe5-d056-4103-a914-2e3cf5714b5b')\"\n",
              "            title=\"Convert this dataframe to an interactive table.\"\n",
              "            style=\"display:none;\">\n",
              "\n",
              "  <svg xmlns=\"http://www.w3.org/2000/svg\" height=\"24px\" viewBox=\"0 -960 960 960\">\n",
              "    <path d=\"M120-120v-720h720v720H120Zm60-500h600v-160H180v160Zm220 220h160v-160H400v160Zm0 220h160v-160H400v160ZM180-400h160v-160H180v160Zm440 0h160v-160H620v160ZM180-180h160v-160H180v160Zm440 0h160v-160H620v160Z\"/>\n",
              "  </svg>\n",
              "    </button>\n",
              "\n",
              "  <style>\n",
              "    .colab-df-container {\n",
              "      display:flex;\n",
              "      gap: 12px;\n",
              "    }\n",
              "\n",
              "    .colab-df-convert {\n",
              "      background-color: #E8F0FE;\n",
              "      border: none;\n",
              "      border-radius: 50%;\n",
              "      cursor: pointer;\n",
              "      display: none;\n",
              "      fill: #1967D2;\n",
              "      height: 32px;\n",
              "      padding: 0 0 0 0;\n",
              "      width: 32px;\n",
              "    }\n",
              "\n",
              "    .colab-df-convert:hover {\n",
              "      background-color: #E2EBFA;\n",
              "      box-shadow: 0px 1px 2px rgba(60, 64, 67, 0.3), 0px 1px 3px 1px rgba(60, 64, 67, 0.15);\n",
              "      fill: #174EA6;\n",
              "    }\n",
              "\n",
              "    .colab-df-buttons div {\n",
              "      margin-bottom: 4px;\n",
              "    }\n",
              "\n",
              "    [theme=dark] .colab-df-convert {\n",
              "      background-color: #3B4455;\n",
              "      fill: #D2E3FC;\n",
              "    }\n",
              "\n",
              "    [theme=dark] .colab-df-convert:hover {\n",
              "      background-color: #434B5C;\n",
              "      box-shadow: 0px 1px 3px 1px rgba(0, 0, 0, 0.15);\n",
              "      filter: drop-shadow(0px 1px 2px rgba(0, 0, 0, 0.3));\n",
              "      fill: #FFFFFF;\n",
              "    }\n",
              "  </style>\n",
              "\n",
              "    <script>\n",
              "      const buttonEl =\n",
              "        document.querySelector('#df-b0521fe5-d056-4103-a914-2e3cf5714b5b button.colab-df-convert');\n",
              "      buttonEl.style.display =\n",
              "        google.colab.kernel.accessAllowed ? 'block' : 'none';\n",
              "\n",
              "      async function convertToInteractive(key) {\n",
              "        const element = document.querySelector('#df-b0521fe5-d056-4103-a914-2e3cf5714b5b');\n",
              "        const dataTable =\n",
              "          await google.colab.kernel.invokeFunction('convertToInteractive',\n",
              "                                                    [key], {});\n",
              "        if (!dataTable) return;\n",
              "\n",
              "        const docLinkHtml = 'Like what you see? Visit the ' +\n",
              "          '<a target=\"_blank\" href=https://colab.research.google.com/notebooks/data_table.ipynb>data table notebook</a>'\n",
              "          + ' to learn more about interactive tables.';\n",
              "        element.innerHTML = '';\n",
              "        dataTable['output_type'] = 'display_data';\n",
              "        await google.colab.output.renderOutput(dataTable, element);\n",
              "        const docLink = document.createElement('div');\n",
              "        docLink.innerHTML = docLinkHtml;\n",
              "        element.appendChild(docLink);\n",
              "      }\n",
              "    </script>\n",
              "  </div>\n",
              "\n",
              "\n",
              "    <div id=\"df-b65f16ad-fcd0-406a-a175-ac302713b7dd\">\n",
              "      <button class=\"colab-df-quickchart\" onclick=\"quickchart('df-b65f16ad-fcd0-406a-a175-ac302713b7dd')\"\n",
              "                title=\"Suggest charts\"\n",
              "                style=\"display:none;\">\n",
              "\n",
              "<svg xmlns=\"http://www.w3.org/2000/svg\" height=\"24px\"viewBox=\"0 0 24 24\"\n",
              "     width=\"24px\">\n",
              "    <g>\n",
              "        <path d=\"M19 3H5c-1.1 0-2 .9-2 2v14c0 1.1.9 2 2 2h14c1.1 0 2-.9 2-2V5c0-1.1-.9-2-2-2zM9 17H7v-7h2v7zm4 0h-2V7h2v10zm4 0h-2v-4h2v4z\"/>\n",
              "    </g>\n",
              "</svg>\n",
              "      </button>\n",
              "\n",
              "<style>\n",
              "  .colab-df-quickchart {\n",
              "      --bg-color: #E8F0FE;\n",
              "      --fill-color: #1967D2;\n",
              "      --hover-bg-color: #E2EBFA;\n",
              "      --hover-fill-color: #174EA6;\n",
              "      --disabled-fill-color: #AAA;\n",
              "      --disabled-bg-color: #DDD;\n",
              "  }\n",
              "\n",
              "  [theme=dark] .colab-df-quickchart {\n",
              "      --bg-color: #3B4455;\n",
              "      --fill-color: #D2E3FC;\n",
              "      --hover-bg-color: #434B5C;\n",
              "      --hover-fill-color: #FFFFFF;\n",
              "      --disabled-bg-color: #3B4455;\n",
              "      --disabled-fill-color: #666;\n",
              "  }\n",
              "\n",
              "  .colab-df-quickchart {\n",
              "    background-color: var(--bg-color);\n",
              "    border: none;\n",
              "    border-radius: 50%;\n",
              "    cursor: pointer;\n",
              "    display: none;\n",
              "    fill: var(--fill-color);\n",
              "    height: 32px;\n",
              "    padding: 0;\n",
              "    width: 32px;\n",
              "  }\n",
              "\n",
              "  .colab-df-quickchart:hover {\n",
              "    background-color: var(--hover-bg-color);\n",
              "    box-shadow: 0 1px 2px rgba(60, 64, 67, 0.3), 0 1px 3px 1px rgba(60, 64, 67, 0.15);\n",
              "    fill: var(--button-hover-fill-color);\n",
              "  }\n",
              "\n",
              "  .colab-df-quickchart-complete:disabled,\n",
              "  .colab-df-quickchart-complete:disabled:hover {\n",
              "    background-color: var(--disabled-bg-color);\n",
              "    fill: var(--disabled-fill-color);\n",
              "    box-shadow: none;\n",
              "  }\n",
              "\n",
              "  .colab-df-spinner {\n",
              "    border: 2px solid var(--fill-color);\n",
              "    border-color: transparent;\n",
              "    border-bottom-color: var(--fill-color);\n",
              "    animation:\n",
              "      spin 1s steps(1) infinite;\n",
              "  }\n",
              "\n",
              "  @keyframes spin {\n",
              "    0% {\n",
              "      border-color: transparent;\n",
              "      border-bottom-color: var(--fill-color);\n",
              "      border-left-color: var(--fill-color);\n",
              "    }\n",
              "    20% {\n",
              "      border-color: transparent;\n",
              "      border-left-color: var(--fill-color);\n",
              "      border-top-color: var(--fill-color);\n",
              "    }\n",
              "    30% {\n",
              "      border-color: transparent;\n",
              "      border-left-color: var(--fill-color);\n",
              "      border-top-color: var(--fill-color);\n",
              "      border-right-color: var(--fill-color);\n",
              "    }\n",
              "    40% {\n",
              "      border-color: transparent;\n",
              "      border-right-color: var(--fill-color);\n",
              "      border-top-color: var(--fill-color);\n",
              "    }\n",
              "    60% {\n",
              "      border-color: transparent;\n",
              "      border-right-color: var(--fill-color);\n",
              "    }\n",
              "    80% {\n",
              "      border-color: transparent;\n",
              "      border-right-color: var(--fill-color);\n",
              "      border-bottom-color: var(--fill-color);\n",
              "    }\n",
              "    90% {\n",
              "      border-color: transparent;\n",
              "      border-bottom-color: var(--fill-color);\n",
              "    }\n",
              "  }\n",
              "</style>\n",
              "\n",
              "      <script>\n",
              "        async function quickchart(key) {\n",
              "          const quickchartButtonEl =\n",
              "            document.querySelector('#' + key + ' button');\n",
              "          quickchartButtonEl.disabled = true;  // To prevent multiple clicks.\n",
              "          quickchartButtonEl.classList.add('colab-df-spinner');\n",
              "          try {\n",
              "            const charts = await google.colab.kernel.invokeFunction(\n",
              "                'suggestCharts', [key], {});\n",
              "          } catch (error) {\n",
              "            console.error('Error during call to suggestCharts:', error);\n",
              "          }\n",
              "          quickchartButtonEl.classList.remove('colab-df-spinner');\n",
              "          quickchartButtonEl.classList.add('colab-df-quickchart-complete');\n",
              "        }\n",
              "        (() => {\n",
              "          let quickchartButtonEl =\n",
              "            document.querySelector('#df-b65f16ad-fcd0-406a-a175-ac302713b7dd button');\n",
              "          quickchartButtonEl.style.display =\n",
              "            google.colab.kernel.accessAllowed ? 'block' : 'none';\n",
              "        })();\n",
              "      </script>\n",
              "    </div>\n",
              "\n",
              "    </div>\n",
              "  </div>\n"
            ],
            "application/vnd.google.colaboratory.intrinsic+json": {
              "type": "dataframe",
              "variable_name": "df",
              "summary": "{\n  \"name\": \"df\",\n  \"rows\": 252,\n  \"fields\": [\n    {\n      \"column\": \"Product ID\",\n      \"properties\": {\n        \"dtype\": \"number\",\n        \"std\": 26160,\n        \"min\": 110075,\n        \"max\": 199631,\n        \"num_unique_values\": 252,\n        \"samples\": [\n          166331,\n          189118,\n          154224\n        ],\n        \"semantic_type\": \"\",\n        \"description\": \"\"\n      }\n    },\n    {\n      \"column\": \"Product Position\",\n      \"properties\": {\n        \"dtype\": \"category\",\n        \"num_unique_values\": 3,\n        \"samples\": [\n          \"Aisle\",\n          \"End-cap\",\n          \"Front of Store\"\n        ],\n        \"semantic_type\": \"\",\n        \"description\": \"\"\n      }\n    },\n    {\n      \"column\": \"Promotion\",\n      \"properties\": {\n        \"dtype\": \"category\",\n        \"num_unique_values\": 2,\n        \"samples\": [\n          \"Yes\",\n          \"No\"\n        ],\n        \"semantic_type\": \"\",\n        \"description\": \"\"\n      }\n    },\n    {\n      \"column\": \"Product Category\",\n      \"properties\": {\n        \"dtype\": \"category\",\n        \"num_unique_values\": 1,\n        \"samples\": [\n          \"Clothing\"\n        ],\n        \"semantic_type\": \"\",\n        \"description\": \"\"\n      }\n    },\n    {\n      \"column\": \"Seasonal\",\n      \"properties\": {\n        \"dtype\": \"category\",\n        \"num_unique_values\": 2,\n        \"samples\": [\n          \"Yes\"\n        ],\n        \"semantic_type\": \"\",\n        \"description\": \"\"\n      }\n    },\n    {\n      \"column\": \"Sales Volume\",\n      \"properties\": {\n        \"dtype\": \"number\",\n        \"std\": 697,\n        \"min\": 529,\n        \"max\": 2989,\n        \"num_unique_values\": 234,\n        \"samples\": [\n          2019\n        ],\n        \"semantic_type\": \"\",\n        \"description\": \"\"\n      }\n    },\n    {\n      \"column\": \"brand\",\n      \"properties\": {\n        \"dtype\": \"category\",\n        \"num_unique_values\": 1,\n        \"samples\": [\n          \"Zara\"\n        ],\n        \"semantic_type\": \"\",\n        \"description\": \"\"\n      }\n    },\n    {\n      \"column\": \"url\",\n      \"properties\": {\n        \"dtype\": \"string\",\n        \"num_unique_values\": 228,\n        \"samples\": [\n          \"https://www.zara.com/us/en/printed-cropped-fit-shirt-limited-edition-p06224490.html\"\n        ],\n        \"semantic_type\": \"\",\n        \"description\": \"\"\n      }\n    },\n    {\n      \"column\": \"sku\",\n      \"properties\": {\n        \"dtype\": \"string\",\n        \"num_unique_values\": 228,\n        \"samples\": [\n          \"328232452-898-2\"\n        ],\n        \"semantic_type\": \"\",\n        \"description\": \"\"\n      }\n    },\n    {\n      \"column\": \"name\",\n      \"properties\": {\n        \"dtype\": \"string\",\n        \"num_unique_values\": 194,\n        \"samples\": [\n          \"MOCK NECK WOOL AND SILK BLEND KNIT TOP\"\n        ],\n        \"semantic_type\": \"\",\n        \"description\": \"\"\n      }\n    },\n    {\n      \"column\": \"description\",\n      \"properties\": {\n        \"dtype\": \"string\",\n        \"num_unique_values\": 221,\n        \"samples\": [\n          \"Sneakers. Pieces and topstitching at upper. Lacing with six pairs of eyelets. Contrasting slightly chunky soles.\"\n        ],\n        \"semantic_type\": \"\",\n        \"description\": \"\"\n      }\n    },\n    {\n      \"column\": \"price\",\n      \"properties\": {\n        \"dtype\": \"number\",\n        \"std\": 52.08320457788683,\n        \"min\": 7.99,\n        \"max\": 439.0,\n        \"num_unique_values\": 28,\n        \"samples\": [\n          69.9\n        ],\n        \"semantic_type\": \"\",\n        \"description\": \"\"\n      }\n    },\n    {\n      \"column\": \"currency\",\n      \"properties\": {\n        \"dtype\": \"category\",\n        \"num_unique_values\": 1,\n        \"samples\": [\n          \"USD\"\n        ],\n        \"semantic_type\": \"\",\n        \"description\": \"\"\n      }\n    },\n    {\n      \"column\": \"scraped_at\",\n      \"properties\": {\n        \"dtype\": \"object\",\n        \"num_unique_values\": 229,\n        \"samples\": [\n          \"2024-02-19T08:56:29.503270\"\n        ],\n        \"semantic_type\": \"\",\n        \"description\": \"\"\n      }\n    },\n    {\n      \"column\": \"terms\",\n      \"properties\": {\n        \"dtype\": \"category\",\n        \"num_unique_values\": 5,\n        \"samples\": [\n          \"shoes\"\n        ],\n        \"semantic_type\": \"\",\n        \"description\": \"\"\n      }\n    },\n    {\n      \"column\": \"section\",\n      \"properties\": {\n        \"dtype\": \"category\",\n        \"num_unique_values\": 2,\n        \"samples\": [\n          \"WOMAN\"\n        ],\n        \"semantic_type\": \"\",\n        \"description\": \"\"\n      }\n    }\n  ]\n}"
            }
          },
          "metadata": {},
          "execution_count": 4
        }
      ]
    },
    {
      "cell_type": "code",
      "source": [
        "print(df.shape)"
      ],
      "metadata": {
        "colab": {
          "base_uri": "https://localhost:8080/"
        },
        "id": "prIphh9hK0u0",
        "outputId": "5c603be2-c267-44f3-f528-5691e72a1cee"
      },
      "execution_count": 5,
      "outputs": [
        {
          "output_type": "stream",
          "name": "stdout",
          "text": [
            "(252, 16)\n"
          ]
        }
      ]
    },
    {
      "cell_type": "code",
      "source": [
        "print(df.columns)"
      ],
      "metadata": {
        "colab": {
          "base_uri": "https://localhost:8080/"
        },
        "id": "nVAgyvwoMUGr",
        "outputId": "caf6b32f-552a-4241-c561-842b349e6516"
      },
      "execution_count": 6,
      "outputs": [
        {
          "output_type": "stream",
          "name": "stdout",
          "text": [
            "Index(['Product ID', 'Product Position', 'Promotion', 'Product Category',\n",
            "       'Seasonal', 'Sales Volume', 'brand', 'url', 'sku', 'name',\n",
            "       'description', 'price', 'currency', 'scraped_at', 'terms', 'section'],\n",
            "      dtype='object')\n"
          ]
        }
      ]
    },
    {
      "cell_type": "markdown",
      "source": [
        "### ✅ Insight:\n",
        "- Displayed a preview of the dataset.\n",
        "- Verified the dataset's dimensions, column names, and presence of missing values."
      ],
      "metadata": {
        "id": "McUgbo40eFY1"
      }
    },
    {
      "cell_type": "markdown",
      "source": [
        "## ❓ 3. Investigate Missing Data and Duplicate Entries"
      ],
      "metadata": {
        "id": "tbtkzDh3eGfy"
      }
    },
    {
      "cell_type": "code",
      "source": [
        "print(df.isnull().sum())"
      ],
      "metadata": {
        "colab": {
          "base_uri": "https://localhost:8080/"
        },
        "id": "MIzppDYXcMW7",
        "outputId": "c8166011-abb6-4a6f-9bc2-1d08ec5824fe"
      },
      "execution_count": 7,
      "outputs": [
        {
          "output_type": "stream",
          "name": "stdout",
          "text": [
            "Product ID          0\n",
            "Product Position    0\n",
            "Promotion           0\n",
            "Product Category    0\n",
            "Seasonal            0\n",
            "Sales Volume        0\n",
            "brand               0\n",
            "url                 0\n",
            "sku                 0\n",
            "name                1\n",
            "description         2\n",
            "price               0\n",
            "currency            0\n",
            "scraped_at          0\n",
            "terms               0\n",
            "section             0\n",
            "dtype: int64\n"
          ]
        }
      ]
    },
    {
      "cell_type": "code",
      "source": [
        "print(df[df['name'].isnull()])"
      ],
      "metadata": {
        "colab": {
          "base_uri": "https://localhost:8080/"
        },
        "id": "B5VrtNPESKsN",
        "outputId": "e45e7fac-9aeb-4cc4-f043-ab0c26eac573"
      },
      "execution_count": 8,
      "outputs": [
        {
          "output_type": "stream",
          "name": "stdout",
          "text": [
            "    Product ID Product Position Promotion Product Category Seasonal  \\\n",
            "72      173576          End-cap       Yes         Clothing       No   \n",
            "\n",
            "    Sales Volume brand                                         url  \\\n",
            "72          1838  Zara  https://www.zara.com/us/en/-p04310461.html   \n",
            "\n",
            "                sku name description  price currency  \\\n",
            "72  336378923-700-2  NaN         NaN  129.0      USD   \n",
            "\n",
            "                    scraped_at    terms section  \n",
            "72  2024-02-19T08:50:54.476057  jackets     MAN  \n"
          ]
        }
      ]
    },
    {
      "cell_type": "code",
      "source": [
        "print(df[df['description'].isnull()])"
      ],
      "metadata": {
        "colab": {
          "base_uri": "https://localhost:8080/"
        },
        "id": "Qlqhg1AuUVvM",
        "outputId": "a153dd93-23e0-49fe-cfdd-47ae24601f5d"
      },
      "execution_count": 9,
      "outputs": [
        {
          "output_type": "stream",
          "name": "stdout",
          "text": [
            "    Product ID Product Position Promotion Product Category Seasonal  \\\n",
            "60      151925          End-cap       Yes         Clothing      Yes   \n",
            "72      173576          End-cap       Yes         Clothing       No   \n",
            "\n",
            "    Sales Volume brand                                                url  \\\n",
            "60          2179  Zara  https://www.zara.com/us/en/vintage-effect-leat...   \n",
            "72          1838  Zara         https://www.zara.com/us/en/-p04310461.html   \n",
            "\n",
            "                 sku                                  name description  price  \\\n",
            "60  320774184-800-97  VINTAGE EFFECT LEATHER BOMBER JACKET         NaN  299.0   \n",
            "72   336378923-700-2                                   NaN         NaN  129.0   \n",
            "\n",
            "   currency                  scraped_at    terms section  \n",
            "60      USD  2024-02-19T08:50:43.543555  jackets     MAN  \n",
            "72      USD  2024-02-19T08:50:54.476057  jackets     MAN  \n"
          ]
        }
      ]
    },
    {
      "cell_type": "code",
      "source": [
        "duplicates = df[df.duplicated()]\n",
        "print(duplicates)"
      ],
      "metadata": {
        "colab": {
          "base_uri": "https://localhost:8080/"
        },
        "id": "CPxu2iOmoURN",
        "outputId": "ea0c62ac-581a-458e-b1cf-2ea5577ad2aa"
      },
      "execution_count": 11,
      "outputs": [
        {
          "output_type": "stream",
          "name": "stdout",
          "text": [
            "Empty DataFrame\n",
            "Columns: [Product ID, Product Position, Promotion, Product Category, Seasonal, Sales Volume, brand, url, sku, name, description, price, currency, scraped_at, terms, section]\n",
            "Index: []\n"
          ]
        }
      ]
    },
    {
      "cell_type": "markdown",
      "source": [
        "### ✅ Insight:\n",
        "- Identified three missing values: one in the name column and two in the description column.\n",
        "- No duplicate entries were found in the dataset."
      ],
      "metadata": {
        "id": "VU7JXPyyhLGE"
      }
    },
    {
      "cell_type": "markdown",
      "source": [
        "## 🧹 4. Drop Irrelevant Columns"
      ],
      "metadata": {
        "id": "K-4KKuvMefAT"
      }
    },
    {
      "cell_type": "code",
      "source": [
        "print(df['Product Category'].unique())"
      ],
      "metadata": {
        "colab": {
          "base_uri": "https://localhost:8080/"
        },
        "collapsed": true,
        "id": "N0fF3IyAzlXU",
        "outputId": "c652fb94-b71a-43f1-ea7a-dfa139ccb3e1"
      },
      "execution_count": 12,
      "outputs": [
        {
          "output_type": "stream",
          "name": "stdout",
          "text": [
            "['Clothing']\n"
          ]
        }
      ]
    },
    {
      "cell_type": "code",
      "source": [
        "print(df['section'].unique())\n",
        "print(df['currency'].unique())"
      ],
      "metadata": {
        "colab": {
          "base_uri": "https://localhost:8080/"
        },
        "id": "2xu8bI9a0Aoz",
        "outputId": "517ee334-4b19-4121-e984-856698675740"
      },
      "execution_count": 13,
      "outputs": [
        {
          "output_type": "stream",
          "name": "stdout",
          "text": [
            "['MAN' 'WOMAN']\n",
            "['USD']\n"
          ]
        }
      ]
    },
    {
      "cell_type": "code",
      "source": [
        "df = df.drop(['Product Category', 'brand','description', 'currency','url','sku','scraped_at'], axis=1)"
      ],
      "metadata": {
        "id": "YW7CkHWA0BrL"
      },
      "execution_count": 14,
      "outputs": []
    },
    {
      "cell_type": "code",
      "source": [
        "df"
      ],
      "metadata": {
        "colab": {
          "base_uri": "https://localhost:8080/",
          "height": 423
        },
        "id": "eKF8EAzS1wAY",
        "outputId": "0ebb3c11-6fca-439d-9a03-7ff023da69a9"
      },
      "execution_count": 15,
      "outputs": [
        {
          "output_type": "execute_result",
          "data": {
            "text/plain": [
              "     Product ID Product Position Promotion Seasonal  Sales Volume  \\\n",
              "0        185102            Aisle        No       No          2823   \n",
              "1        188771            Aisle        No       No           654   \n",
              "2        180176          End-cap       Yes      Yes          2220   \n",
              "3        112917            Aisle       Yes      Yes          1568   \n",
              "4        192936          End-cap        No      Yes          2942   \n",
              "..          ...              ...       ...      ...           ...   \n",
              "247      159182   Front of Store       Yes       No          1014   \n",
              "248      199233            Aisle       Yes       No          2222   \n",
              "249      137044            Aisle        No      Yes          2534   \n",
              "250      154736   Front of Store       Yes      Yes          1466   \n",
              "251      141434   Front of Store        No      Yes          2870   \n",
              "\n",
              "                                              name   price    terms section  \n",
              "0                              BASIC PUFFER JACKET   19.99  jackets     MAN  \n",
              "1                                    TUXEDO JACKET  169.00  jackets     MAN  \n",
              "2                             SLIM FIT SUIT JACKET  129.00  jackets     MAN  \n",
              "3                              STRETCH SUIT JACKET  129.00  jackets     MAN  \n",
              "4                              DOUBLE FACED JACKET  139.00  jackets     MAN  \n",
              "..                                             ...     ...      ...     ...  \n",
              "247  FAUX LEATHER OVERSIZED JACKET LIMITED EDITION  169.00  jackets     MAN  \n",
              "248              CONTRASTING PATCHES BOMBER JACKET  159.00  jackets     MAN  \n",
              "249                            PATCH BOMBER JACKET   12.99  jackets     MAN  \n",
              "250          CROPPED BOMBER JACKET LIMITED EDITION   19.90  jackets     MAN  \n",
              "251                     FAUX LEATHER PUFFER JACKET   39.90  jackets     MAN  \n",
              "\n",
              "[252 rows x 9 columns]"
            ],
            "text/html": [
              "\n",
              "  <div id=\"df-3b3738c4-bcc7-425f-99bd-687f0b3733a5\" class=\"colab-df-container\">\n",
              "    <div>\n",
              "<style scoped>\n",
              "    .dataframe tbody tr th:only-of-type {\n",
              "        vertical-align: middle;\n",
              "    }\n",
              "\n",
              "    .dataframe tbody tr th {\n",
              "        vertical-align: top;\n",
              "    }\n",
              "\n",
              "    .dataframe thead th {\n",
              "        text-align: right;\n",
              "    }\n",
              "</style>\n",
              "<table border=\"1\" class=\"dataframe\">\n",
              "  <thead>\n",
              "    <tr style=\"text-align: right;\">\n",
              "      <th></th>\n",
              "      <th>Product ID</th>\n",
              "      <th>Product Position</th>\n",
              "      <th>Promotion</th>\n",
              "      <th>Seasonal</th>\n",
              "      <th>Sales Volume</th>\n",
              "      <th>name</th>\n",
              "      <th>price</th>\n",
              "      <th>terms</th>\n",
              "      <th>section</th>\n",
              "    </tr>\n",
              "  </thead>\n",
              "  <tbody>\n",
              "    <tr>\n",
              "      <th>0</th>\n",
              "      <td>185102</td>\n",
              "      <td>Aisle</td>\n",
              "      <td>No</td>\n",
              "      <td>No</td>\n",
              "      <td>2823</td>\n",
              "      <td>BASIC PUFFER JACKET</td>\n",
              "      <td>19.99</td>\n",
              "      <td>jackets</td>\n",
              "      <td>MAN</td>\n",
              "    </tr>\n",
              "    <tr>\n",
              "      <th>1</th>\n",
              "      <td>188771</td>\n",
              "      <td>Aisle</td>\n",
              "      <td>No</td>\n",
              "      <td>No</td>\n",
              "      <td>654</td>\n",
              "      <td>TUXEDO JACKET</td>\n",
              "      <td>169.00</td>\n",
              "      <td>jackets</td>\n",
              "      <td>MAN</td>\n",
              "    </tr>\n",
              "    <tr>\n",
              "      <th>2</th>\n",
              "      <td>180176</td>\n",
              "      <td>End-cap</td>\n",
              "      <td>Yes</td>\n",
              "      <td>Yes</td>\n",
              "      <td>2220</td>\n",
              "      <td>SLIM FIT SUIT JACKET</td>\n",
              "      <td>129.00</td>\n",
              "      <td>jackets</td>\n",
              "      <td>MAN</td>\n",
              "    </tr>\n",
              "    <tr>\n",
              "      <th>3</th>\n",
              "      <td>112917</td>\n",
              "      <td>Aisle</td>\n",
              "      <td>Yes</td>\n",
              "      <td>Yes</td>\n",
              "      <td>1568</td>\n",
              "      <td>STRETCH SUIT JACKET</td>\n",
              "      <td>129.00</td>\n",
              "      <td>jackets</td>\n",
              "      <td>MAN</td>\n",
              "    </tr>\n",
              "    <tr>\n",
              "      <th>4</th>\n",
              "      <td>192936</td>\n",
              "      <td>End-cap</td>\n",
              "      <td>No</td>\n",
              "      <td>Yes</td>\n",
              "      <td>2942</td>\n",
              "      <td>DOUBLE FACED JACKET</td>\n",
              "      <td>139.00</td>\n",
              "      <td>jackets</td>\n",
              "      <td>MAN</td>\n",
              "    </tr>\n",
              "    <tr>\n",
              "      <th>...</th>\n",
              "      <td>...</td>\n",
              "      <td>...</td>\n",
              "      <td>...</td>\n",
              "      <td>...</td>\n",
              "      <td>...</td>\n",
              "      <td>...</td>\n",
              "      <td>...</td>\n",
              "      <td>...</td>\n",
              "      <td>...</td>\n",
              "    </tr>\n",
              "    <tr>\n",
              "      <th>247</th>\n",
              "      <td>159182</td>\n",
              "      <td>Front of Store</td>\n",
              "      <td>Yes</td>\n",
              "      <td>No</td>\n",
              "      <td>1014</td>\n",
              "      <td>FAUX LEATHER OVERSIZED JACKET LIMITED EDITION</td>\n",
              "      <td>169.00</td>\n",
              "      <td>jackets</td>\n",
              "      <td>MAN</td>\n",
              "    </tr>\n",
              "    <tr>\n",
              "      <th>248</th>\n",
              "      <td>199233</td>\n",
              "      <td>Aisle</td>\n",
              "      <td>Yes</td>\n",
              "      <td>No</td>\n",
              "      <td>2222</td>\n",
              "      <td>CONTRASTING PATCHES BOMBER JACKET</td>\n",
              "      <td>159.00</td>\n",
              "      <td>jackets</td>\n",
              "      <td>MAN</td>\n",
              "    </tr>\n",
              "    <tr>\n",
              "      <th>249</th>\n",
              "      <td>137044</td>\n",
              "      <td>Aisle</td>\n",
              "      <td>No</td>\n",
              "      <td>Yes</td>\n",
              "      <td>2534</td>\n",
              "      <td>PATCH BOMBER JACKET</td>\n",
              "      <td>12.99</td>\n",
              "      <td>jackets</td>\n",
              "      <td>MAN</td>\n",
              "    </tr>\n",
              "    <tr>\n",
              "      <th>250</th>\n",
              "      <td>154736</td>\n",
              "      <td>Front of Store</td>\n",
              "      <td>Yes</td>\n",
              "      <td>Yes</td>\n",
              "      <td>1466</td>\n",
              "      <td>CROPPED BOMBER JACKET LIMITED EDITION</td>\n",
              "      <td>19.90</td>\n",
              "      <td>jackets</td>\n",
              "      <td>MAN</td>\n",
              "    </tr>\n",
              "    <tr>\n",
              "      <th>251</th>\n",
              "      <td>141434</td>\n",
              "      <td>Front of Store</td>\n",
              "      <td>No</td>\n",
              "      <td>Yes</td>\n",
              "      <td>2870</td>\n",
              "      <td>FAUX LEATHER PUFFER JACKET</td>\n",
              "      <td>39.90</td>\n",
              "      <td>jackets</td>\n",
              "      <td>MAN</td>\n",
              "    </tr>\n",
              "  </tbody>\n",
              "</table>\n",
              "<p>252 rows × 9 columns</p>\n",
              "</div>\n",
              "    <div class=\"colab-df-buttons\">\n",
              "\n",
              "  <div class=\"colab-df-container\">\n",
              "    <button class=\"colab-df-convert\" onclick=\"convertToInteractive('df-3b3738c4-bcc7-425f-99bd-687f0b3733a5')\"\n",
              "            title=\"Convert this dataframe to an interactive table.\"\n",
              "            style=\"display:none;\">\n",
              "\n",
              "  <svg xmlns=\"http://www.w3.org/2000/svg\" height=\"24px\" viewBox=\"0 -960 960 960\">\n",
              "    <path d=\"M120-120v-720h720v720H120Zm60-500h600v-160H180v160Zm220 220h160v-160H400v160Zm0 220h160v-160H400v160ZM180-400h160v-160H180v160Zm440 0h160v-160H620v160ZM180-180h160v-160H180v160Zm440 0h160v-160H620v160Z\"/>\n",
              "  </svg>\n",
              "    </button>\n",
              "\n",
              "  <style>\n",
              "    .colab-df-container {\n",
              "      display:flex;\n",
              "      gap: 12px;\n",
              "    }\n",
              "\n",
              "    .colab-df-convert {\n",
              "      background-color: #E8F0FE;\n",
              "      border: none;\n",
              "      border-radius: 50%;\n",
              "      cursor: pointer;\n",
              "      display: none;\n",
              "      fill: #1967D2;\n",
              "      height: 32px;\n",
              "      padding: 0 0 0 0;\n",
              "      width: 32px;\n",
              "    }\n",
              "\n",
              "    .colab-df-convert:hover {\n",
              "      background-color: #E2EBFA;\n",
              "      box-shadow: 0px 1px 2px rgba(60, 64, 67, 0.3), 0px 1px 3px 1px rgba(60, 64, 67, 0.15);\n",
              "      fill: #174EA6;\n",
              "    }\n",
              "\n",
              "    .colab-df-buttons div {\n",
              "      margin-bottom: 4px;\n",
              "    }\n",
              "\n",
              "    [theme=dark] .colab-df-convert {\n",
              "      background-color: #3B4455;\n",
              "      fill: #D2E3FC;\n",
              "    }\n",
              "\n",
              "    [theme=dark] .colab-df-convert:hover {\n",
              "      background-color: #434B5C;\n",
              "      box-shadow: 0px 1px 3px 1px rgba(0, 0, 0, 0.15);\n",
              "      filter: drop-shadow(0px 1px 2px rgba(0, 0, 0, 0.3));\n",
              "      fill: #FFFFFF;\n",
              "    }\n",
              "  </style>\n",
              "\n",
              "    <script>\n",
              "      const buttonEl =\n",
              "        document.querySelector('#df-3b3738c4-bcc7-425f-99bd-687f0b3733a5 button.colab-df-convert');\n",
              "      buttonEl.style.display =\n",
              "        google.colab.kernel.accessAllowed ? 'block' : 'none';\n",
              "\n",
              "      async function convertToInteractive(key) {\n",
              "        const element = document.querySelector('#df-3b3738c4-bcc7-425f-99bd-687f0b3733a5');\n",
              "        const dataTable =\n",
              "          await google.colab.kernel.invokeFunction('convertToInteractive',\n",
              "                                                    [key], {});\n",
              "        if (!dataTable) return;\n",
              "\n",
              "        const docLinkHtml = 'Like what you see? Visit the ' +\n",
              "          '<a target=\"_blank\" href=https://colab.research.google.com/notebooks/data_table.ipynb>data table notebook</a>'\n",
              "          + ' to learn more about interactive tables.';\n",
              "        element.innerHTML = '';\n",
              "        dataTable['output_type'] = 'display_data';\n",
              "        await google.colab.output.renderOutput(dataTable, element);\n",
              "        const docLink = document.createElement('div');\n",
              "        docLink.innerHTML = docLinkHtml;\n",
              "        element.appendChild(docLink);\n",
              "      }\n",
              "    </script>\n",
              "  </div>\n",
              "\n",
              "\n",
              "    <div id=\"df-26d4d6e9-ef02-4c52-9cfc-24f612349ee6\">\n",
              "      <button class=\"colab-df-quickchart\" onclick=\"quickchart('df-26d4d6e9-ef02-4c52-9cfc-24f612349ee6')\"\n",
              "                title=\"Suggest charts\"\n",
              "                style=\"display:none;\">\n",
              "\n",
              "<svg xmlns=\"http://www.w3.org/2000/svg\" height=\"24px\"viewBox=\"0 0 24 24\"\n",
              "     width=\"24px\">\n",
              "    <g>\n",
              "        <path d=\"M19 3H5c-1.1 0-2 .9-2 2v14c0 1.1.9 2 2 2h14c1.1 0 2-.9 2-2V5c0-1.1-.9-2-2-2zM9 17H7v-7h2v7zm4 0h-2V7h2v10zm4 0h-2v-4h2v4z\"/>\n",
              "    </g>\n",
              "</svg>\n",
              "      </button>\n",
              "\n",
              "<style>\n",
              "  .colab-df-quickchart {\n",
              "      --bg-color: #E8F0FE;\n",
              "      --fill-color: #1967D2;\n",
              "      --hover-bg-color: #E2EBFA;\n",
              "      --hover-fill-color: #174EA6;\n",
              "      --disabled-fill-color: #AAA;\n",
              "      --disabled-bg-color: #DDD;\n",
              "  }\n",
              "\n",
              "  [theme=dark] .colab-df-quickchart {\n",
              "      --bg-color: #3B4455;\n",
              "      --fill-color: #D2E3FC;\n",
              "      --hover-bg-color: #434B5C;\n",
              "      --hover-fill-color: #FFFFFF;\n",
              "      --disabled-bg-color: #3B4455;\n",
              "      --disabled-fill-color: #666;\n",
              "  }\n",
              "\n",
              "  .colab-df-quickchart {\n",
              "    background-color: var(--bg-color);\n",
              "    border: none;\n",
              "    border-radius: 50%;\n",
              "    cursor: pointer;\n",
              "    display: none;\n",
              "    fill: var(--fill-color);\n",
              "    height: 32px;\n",
              "    padding: 0;\n",
              "    width: 32px;\n",
              "  }\n",
              "\n",
              "  .colab-df-quickchart:hover {\n",
              "    background-color: var(--hover-bg-color);\n",
              "    box-shadow: 0 1px 2px rgba(60, 64, 67, 0.3), 0 1px 3px 1px rgba(60, 64, 67, 0.15);\n",
              "    fill: var(--button-hover-fill-color);\n",
              "  }\n",
              "\n",
              "  .colab-df-quickchart-complete:disabled,\n",
              "  .colab-df-quickchart-complete:disabled:hover {\n",
              "    background-color: var(--disabled-bg-color);\n",
              "    fill: var(--disabled-fill-color);\n",
              "    box-shadow: none;\n",
              "  }\n",
              "\n",
              "  .colab-df-spinner {\n",
              "    border: 2px solid var(--fill-color);\n",
              "    border-color: transparent;\n",
              "    border-bottom-color: var(--fill-color);\n",
              "    animation:\n",
              "      spin 1s steps(1) infinite;\n",
              "  }\n",
              "\n",
              "  @keyframes spin {\n",
              "    0% {\n",
              "      border-color: transparent;\n",
              "      border-bottom-color: var(--fill-color);\n",
              "      border-left-color: var(--fill-color);\n",
              "    }\n",
              "    20% {\n",
              "      border-color: transparent;\n",
              "      border-left-color: var(--fill-color);\n",
              "      border-top-color: var(--fill-color);\n",
              "    }\n",
              "    30% {\n",
              "      border-color: transparent;\n",
              "      border-left-color: var(--fill-color);\n",
              "      border-top-color: var(--fill-color);\n",
              "      border-right-color: var(--fill-color);\n",
              "    }\n",
              "    40% {\n",
              "      border-color: transparent;\n",
              "      border-right-color: var(--fill-color);\n",
              "      border-top-color: var(--fill-color);\n",
              "    }\n",
              "    60% {\n",
              "      border-color: transparent;\n",
              "      border-right-color: var(--fill-color);\n",
              "    }\n",
              "    80% {\n",
              "      border-color: transparent;\n",
              "      border-right-color: var(--fill-color);\n",
              "      border-bottom-color: var(--fill-color);\n",
              "    }\n",
              "    90% {\n",
              "      border-color: transparent;\n",
              "      border-bottom-color: var(--fill-color);\n",
              "    }\n",
              "  }\n",
              "</style>\n",
              "\n",
              "      <script>\n",
              "        async function quickchart(key) {\n",
              "          const quickchartButtonEl =\n",
              "            document.querySelector('#' + key + ' button');\n",
              "          quickchartButtonEl.disabled = true;  // To prevent multiple clicks.\n",
              "          quickchartButtonEl.classList.add('colab-df-spinner');\n",
              "          try {\n",
              "            const charts = await google.colab.kernel.invokeFunction(\n",
              "                'suggestCharts', [key], {});\n",
              "          } catch (error) {\n",
              "            console.error('Error during call to suggestCharts:', error);\n",
              "          }\n",
              "          quickchartButtonEl.classList.remove('colab-df-spinner');\n",
              "          quickchartButtonEl.classList.add('colab-df-quickchart-complete');\n",
              "        }\n",
              "        (() => {\n",
              "          let quickchartButtonEl =\n",
              "            document.querySelector('#df-26d4d6e9-ef02-4c52-9cfc-24f612349ee6 button');\n",
              "          quickchartButtonEl.style.display =\n",
              "            google.colab.kernel.accessAllowed ? 'block' : 'none';\n",
              "        })();\n",
              "      </script>\n",
              "    </div>\n",
              "\n",
              "  <div id=\"id_a5726234-3465-4b90-aceb-89b4ab46d8bb\">\n",
              "    <style>\n",
              "      .colab-df-generate {\n",
              "        background-color: #E8F0FE;\n",
              "        border: none;\n",
              "        border-radius: 50%;\n",
              "        cursor: pointer;\n",
              "        display: none;\n",
              "        fill: #1967D2;\n",
              "        height: 32px;\n",
              "        padding: 0 0 0 0;\n",
              "        width: 32px;\n",
              "      }\n",
              "\n",
              "      .colab-df-generate:hover {\n",
              "        background-color: #E2EBFA;\n",
              "        box-shadow: 0px 1px 2px rgba(60, 64, 67, 0.3), 0px 1px 3px 1px rgba(60, 64, 67, 0.15);\n",
              "        fill: #174EA6;\n",
              "      }\n",
              "\n",
              "      [theme=dark] .colab-df-generate {\n",
              "        background-color: #3B4455;\n",
              "        fill: #D2E3FC;\n",
              "      }\n",
              "\n",
              "      [theme=dark] .colab-df-generate:hover {\n",
              "        background-color: #434B5C;\n",
              "        box-shadow: 0px 1px 3px 1px rgba(0, 0, 0, 0.15);\n",
              "        filter: drop-shadow(0px 1px 2px rgba(0, 0, 0, 0.3));\n",
              "        fill: #FFFFFF;\n",
              "      }\n",
              "    </style>\n",
              "    <button class=\"colab-df-generate\" onclick=\"generateWithVariable('df')\"\n",
              "            title=\"Generate code using this dataframe.\"\n",
              "            style=\"display:none;\">\n",
              "\n",
              "  <svg xmlns=\"http://www.w3.org/2000/svg\" height=\"24px\"viewBox=\"0 0 24 24\"\n",
              "       width=\"24px\">\n",
              "    <path d=\"M7,19H8.4L18.45,9,17,7.55,7,17.6ZM5,21V16.75L18.45,3.32a2,2,0,0,1,2.83,0l1.4,1.43a1.91,1.91,0,0,1,.58,1.4,1.91,1.91,0,0,1-.58,1.4L9.25,21ZM18.45,9,17,7.55Zm-12,3A5.31,5.31,0,0,0,4.9,8.1,5.31,5.31,0,0,0,1,6.5,5.31,5.31,0,0,0,4.9,4.9,5.31,5.31,0,0,0,6.5,1,5.31,5.31,0,0,0,8.1,4.9,5.31,5.31,0,0,0,12,6.5,5.46,5.46,0,0,0,6.5,12Z\"/>\n",
              "  </svg>\n",
              "    </button>\n",
              "    <script>\n",
              "      (() => {\n",
              "      const buttonEl =\n",
              "        document.querySelector('#id_a5726234-3465-4b90-aceb-89b4ab46d8bb button.colab-df-generate');\n",
              "      buttonEl.style.display =\n",
              "        google.colab.kernel.accessAllowed ? 'block' : 'none';\n",
              "\n",
              "      buttonEl.onclick = () => {\n",
              "        google.colab.notebook.generateWithVariable('df');\n",
              "      }\n",
              "      })();\n",
              "    </script>\n",
              "  </div>\n",
              "\n",
              "    </div>\n",
              "  </div>\n"
            ],
            "application/vnd.google.colaboratory.intrinsic+json": {
              "type": "dataframe",
              "variable_name": "df",
              "summary": "{\n  \"name\": \"df\",\n  \"rows\": 252,\n  \"fields\": [\n    {\n      \"column\": \"Product ID\",\n      \"properties\": {\n        \"dtype\": \"number\",\n        \"std\": 26160,\n        \"min\": 110075,\n        \"max\": 199631,\n        \"num_unique_values\": 252,\n        \"samples\": [\n          166331,\n          189118,\n          154224\n        ],\n        \"semantic_type\": \"\",\n        \"description\": \"\"\n      }\n    },\n    {\n      \"column\": \"Product Position\",\n      \"properties\": {\n        \"dtype\": \"category\",\n        \"num_unique_values\": 3,\n        \"samples\": [\n          \"Aisle\",\n          \"End-cap\",\n          \"Front of Store\"\n        ],\n        \"semantic_type\": \"\",\n        \"description\": \"\"\n      }\n    },\n    {\n      \"column\": \"Promotion\",\n      \"properties\": {\n        \"dtype\": \"category\",\n        \"num_unique_values\": 2,\n        \"samples\": [\n          \"Yes\",\n          \"No\"\n        ],\n        \"semantic_type\": \"\",\n        \"description\": \"\"\n      }\n    },\n    {\n      \"column\": \"Seasonal\",\n      \"properties\": {\n        \"dtype\": \"category\",\n        \"num_unique_values\": 2,\n        \"samples\": [\n          \"Yes\",\n          \"No\"\n        ],\n        \"semantic_type\": \"\",\n        \"description\": \"\"\n      }\n    },\n    {\n      \"column\": \"Sales Volume\",\n      \"properties\": {\n        \"dtype\": \"number\",\n        \"std\": 697,\n        \"min\": 529,\n        \"max\": 2989,\n        \"num_unique_values\": 234,\n        \"samples\": [\n          2019,\n          1961\n        ],\n        \"semantic_type\": \"\",\n        \"description\": \"\"\n      }\n    },\n    {\n      \"column\": \"name\",\n      \"properties\": {\n        \"dtype\": \"string\",\n        \"num_unique_values\": 194,\n        \"samples\": [\n          \"MOCK NECK WOOL AND SILK BLEND KNIT TOP\",\n          \"FAUX SUEDE BOMBER JACKET\"\n        ],\n        \"semantic_type\": \"\",\n        \"description\": \"\"\n      }\n    },\n    {\n      \"column\": \"price\",\n      \"properties\": {\n        \"dtype\": \"number\",\n        \"std\": 52.08320457788683,\n        \"min\": 7.99,\n        \"max\": 439.0,\n        \"num_unique_values\": 28,\n        \"samples\": [\n          69.9,\n          27.9\n        ],\n        \"semantic_type\": \"\",\n        \"description\": \"\"\n      }\n    },\n    {\n      \"column\": \"terms\",\n      \"properties\": {\n        \"dtype\": \"category\",\n        \"num_unique_values\": 5,\n        \"samples\": [\n          \"shoes\",\n          \"t-shirts\"\n        ],\n        \"semantic_type\": \"\",\n        \"description\": \"\"\n      }\n    },\n    {\n      \"column\": \"section\",\n      \"properties\": {\n        \"dtype\": \"category\",\n        \"num_unique_values\": 2,\n        \"samples\": [\n          \"WOMAN\",\n          \"MAN\"\n        ],\n        \"semantic_type\": \"\",\n        \"description\": \"\"\n      }\n    }\n  ]\n}"
            }
          },
          "metadata": {},
          "execution_count": 15
        }
      ]
    },
    {
      "cell_type": "code",
      "source": [
        "print(df.isnull().sum())"
      ],
      "metadata": {
        "colab": {
          "base_uri": "https://localhost:8080/"
        },
        "id": "GmHr8kkG27gE",
        "outputId": "61e1c500-740a-4f42-8ef4-76a886ce3eaa"
      },
      "execution_count": 16,
      "outputs": [
        {
          "output_type": "stream",
          "name": "stdout",
          "text": [
            "Product ID          0\n",
            "Product Position    0\n",
            "Promotion           0\n",
            "Seasonal            0\n",
            "Sales Volume        0\n",
            "name                1\n",
            "price               0\n",
            "terms               0\n",
            "section             0\n",
            "dtype: int64\n"
          ]
        }
      ]
    },
    {
      "cell_type": "markdown",
      "source": [
        "### ✅ Outcome:\n",
        "- Dropped irrelevant columns from the dataset.\n",
        "- Confirmed only one missing value remains."
      ],
      "metadata": {
        "id": "1reuzzMseqvn"
      }
    },
    {
      "cell_type": "markdown",
      "source": [
        "## 📊 5. Visualize Outliers Using Boxplots"
      ],
      "metadata": {
        "id": "MSn7SGGFesce"
      }
    },
    {
      "cell_type": "code",
      "source": [
        "import matplotlib.pyplot as plt\n",
        "%matplotlib inline\n",
        "import seaborn as sns"
      ],
      "metadata": {
        "id": "DB_lmbHQO9TL"
      },
      "execution_count": 17,
      "outputs": []
    },
    {
      "cell_type": "code",
      "source": [
        "sns.boxplot(df['Sales Volume'])"
      ],
      "metadata": {
        "colab": {
          "base_uri": "https://localhost:8080/",
          "height": 428
        },
        "id": "burd-8hyQVZe",
        "outputId": "95fb7724-d25d-41ae-bb11-37c0289be1d6"
      },
      "execution_count": 18,
      "outputs": [
        {
          "output_type": "execute_result",
          "data": {
            "text/plain": [
              "<Axes: ylabel='Sales Volume'>"
            ]
          },
          "metadata": {},
          "execution_count": 18
        },
        {
          "output_type": "display_data",
          "data": {
            "text/plain": [
              "<Figure size 640x480 with 1 Axes>"
            ],
            "image/png": "[encoded data removed]"
          },
          "metadata": {}
        }
      ]
    },
    {
      "cell_type": "code",
      "source": [
        "sns.boxplot(df['price'])"
      ],
      "metadata": {
        "colab": {
          "base_uri": "https://localhost:8080/",
          "height": 428
        },
        "id": "D8G1h0umoDWw",
        "outputId": "620960a1-3b36-464e-9dcb-136320f2f536"
      },
      "execution_count": 19,
      "outputs": [
        {
          "output_type": "execute_result",
          "data": {
            "text/plain": [
              "<Axes: ylabel='price'>"
            ]
          },
          "metadata": {},
          "execution_count": 19
        },
        {
          "output_type": "display_data",
          "data": {
            "text/plain": [
              "<Figure size 640x480 with 1 Axes>"
            ],
            "image/png": "[encoded data removed]"
          },
          "metadata": {}
        }
      ]
    },
    {
      "cell_type": "markdown",
      "source": [
        "### ✅ Insight:\n",
        "- No outliers were detected in the Sales Volume feature.\n",
        "- Significant outliers were identified in the price feature."
      ],
      "metadata": {
        "id": "Gyoa344rhyXt"
      }
    },
    {
      "cell_type": "markdown",
      "source": [
        "## 📏 6. Detect and Remove Outliers Using Z-Score"
      ],
      "metadata": {
        "id": "x30T_vlZe7GK"
      }
    },
    {
      "cell_type": "code",
      "source": [
        "#using Z score\n",
        "import numpy as np\n",
        "\n",
        "outliers = []\n",
        "data = df['price']\n",
        "mean = np.mean(data)\n",
        "std = np.std(data)\n",
        "threshold = 3\n",
        "\n",
        "for i in data:\n",
        "  z = (i - mean)/std\n",
        "  if np.abs(z) > threshold:\n",
        "    outliers.append(i)\n",
        "\n",
        "print(outliers)"
      ],
      "metadata": {
        "colab": {
          "base_uri": "https://localhost:8080/"
        },
        "id": "GqVBFaZFoPp7",
        "outputId": "5fc5c31a-1cd0-468c-f2aa-4cc8038ed730"
      },
      "execution_count": 20,
      "outputs": [
        {
          "output_type": "stream",
          "name": "stdout",
          "text": [
            "[439.0, 299.0, 349.0, 299.0]\n"
          ]
        }
      ]
    },
    {
      "cell_type": "code",
      "source": [
        "print(df[df['price'].isin(outliers)])"
      ],
      "metadata": {
        "colab": {
          "base_uri": "https://localhost:8080/"
        },
        "id": "OccEIk33qgMg",
        "outputId": "1314419e-a1c2-42cf-d79e-53bce8491938"
      },
      "execution_count": 21,
      "outputs": [
        {
          "output_type": "stream",
          "name": "stdout",
          "text": [
            "    Product ID Product Position Promotion Seasonal  Sales Volume  \\\n",
            "13      151396   Front of Store       Yes      Yes           729   \n",
            "22      161909            Aisle       Yes       No          1290   \n",
            "38      114877            Aisle        No       No          1860   \n",
            "60      151925          End-cap       Yes      Yes          2179   \n",
            "\n",
            "                                    name  price    terms section  \n",
            "13                CROPPED LEATHER JACKET  439.0  jackets     MAN  \n",
            "22                        LEATHER JACKET  299.0  jackets     MAN  \n",
            "38                          SUEDE JACKET  349.0  jackets     MAN  \n",
            "60  VINTAGE EFFECT LEATHER BOMBER JACKET  299.0  jackets     MAN  \n"
          ]
        }
      ]
    },
    {
      "cell_type": "code",
      "source": [
        "df = df[~df['price'].isin(outliers)]\n",
        "print(df.shape)"
      ],
      "metadata": {
        "colab": {
          "base_uri": "https://localhost:8080/"
        },
        "id": "OurarxcWsVPj",
        "outputId": "bcf5ad3d-168f-4bef-ff12-b429b0d3d981"
      },
      "execution_count": 22,
      "outputs": [
        {
          "output_type": "stream",
          "name": "stdout",
          "text": [
            "(248, 9)\n"
          ]
        }
      ]
    },
    {
      "cell_type": "markdown",
      "source": [
        "### ✅ Insight:\n",
        "- Outliers were detected using the Z-score method with a threshold of 3.\n",
        "\n",
        "- These outliers, ranging from 2.5 to 4 times higher than the typical values, were removed to improve data quality."
      ],
      "metadata": {
        "id": "0Ji_Cykyh-4D"
      }
    },
    {
      "cell_type": "markdown",
      "source": [
        "## 💾 7. Export Cleaned Data"
      ],
      "metadata": {
        "id": "CUzOVDCofIWz"
      }
    },
    {
      "cell_type": "code",
      "source": [
        "df.to_csv('Zara_sales.csv', index=False)"
      ],
      "metadata": {
        "id": "ixbET0dBs11O"
      },
      "execution_count": 23,
      "outputs": []
    },
    {
      "cell_type": "markdown",
      "source": [
        "## 🧮 8. Convert Categorical to Numeric for Correlation Analysis"
      ],
      "metadata": {
        "id": "yMmH-Wt7fUUq"
      }
    },
    {
      "cell_type": "code",
      "source": [
        "df.describe()"
      ],
      "metadata": {
        "colab": {
          "base_uri": "https://localhost:8080/",
          "height": 300
        },
        "id": "LL70_W-tMgLA",
        "outputId": "25f91bb2-18c7-472a-c5a3-1b1f00dc002a"
      },
      "execution_count": 24,
      "outputs": [
        {
          "output_type": "execute_result",
          "data": {
            "text/plain": [
              "          Product ID  Sales Volume       price\n",
              "count     248.000000    248.000000  248.000000\n",
              "mean   153505.080645   1828.689516   82.055000\n",
              "std     26251.003313    698.661204   39.864048\n",
              "min    110075.000000    529.000000    7.990000\n",
              "25%    131053.750000   1243.000000   49.900000\n",
              "50%    151806.000000   1839.500000   69.945000\n",
              "75%    176111.750000   2408.250000  109.000000\n",
              "max    199631.000000   2989.000000  189.000000"
            ],
            "text/html": [
              "\n",
              "  <div id=\"df-d4472456-62a6-4169-a6c3-cf5fd410e04a\" class=\"colab-df-container\">\n",
              "    <div>\n",
              "<style scoped>\n",
              "    .dataframe tbody tr th:only-of-type {\n",
              "        vertical-align: middle;\n",
              "    }\n",
              "\n",
              "    .dataframe tbody tr th {\n",
              "        vertical-align: top;\n",
              "    }\n",
              "\n",
              "    .dataframe thead th {\n",
              "        text-align: right;\n",
              "    }\n",
              "</style>\n",
              "<table border=\"1\" class=\"dataframe\">\n",
              "  <thead>\n",
              "    <tr style=\"text-align: right;\">\n",
              "      <th></th>\n",
              "      <th>Product ID</th>\n",
              "      <th>Sales Volume</th>\n",
              "      <th>price</th>\n",
              "    </tr>\n",
              "  </thead>\n",
              "  <tbody>\n",
              "    <tr>\n",
              "      <th>count</th>\n",
              "      <td>248.000000</td>\n",
              "      <td>248.000000</td>\n",
              "      <td>248.000000</td>\n",
              "    </tr>\n",
              "    <tr>\n",
              "      <th>mean</th>\n",
              "      <td>153505.080645</td>\n",
              "      <td>1828.689516</td>\n",
              "      <td>82.055000</td>\n",
              "    </tr>\n",
              "    <tr>\n",
              "      <th>std</th>\n",
              "      <td>26251.003313</td>\n",
              "      <td>698.661204</td>\n",
              "      <td>39.864048</td>\n",
              "    </tr>\n",
              "    <tr>\n",
              "      <th>min</th>\n",
              "      <td>110075.000000</td>\n",
              "      <td>529.000000</td>\n",
              "      <td>7.990000</td>\n",
              "    </tr>\n",
              "    <tr>\n",
              "      <th>25%</th>\n",
              "      <td>131053.750000</td>\n",
              "      <td>1243.000000</td>\n",
              "      <td>49.900000</td>\n",
              "    </tr>\n",
              "    <tr>\n",
              "      <th>50%</th>\n",
              "      <td>151806.000000</td>\n",
              "      <td>1839.500000</td>\n",
              "      <td>69.945000</td>\n",
              "    </tr>\n",
              "    <tr>\n",
              "      <th>75%</th>\n",
              "      <td>176111.750000</td>\n",
              "      <td>2408.250000</td>\n",
              "      <td>109.000000</td>\n",
              "    </tr>\n",
              "    <tr>\n",
              "      <th>max</th>\n",
              "      <td>199631.000000</td>\n",
              "      <td>2989.000000</td>\n",
              "      <td>189.000000</td>\n",
              "    </tr>\n",
              "  </tbody>\n",
              "</table>\n",
              "</div>\n",
              "    <div class=\"colab-df-buttons\">\n",
              "\n",
              "  <div class=\"colab-df-container\">\n",
              "    <button class=\"colab-df-convert\" onclick=\"convertToInteractive('df-d4472456-62a6-4169-a6c3-cf5fd410e04a')\"\n",
              "            title=\"Convert this dataframe to an interactive table.\"\n",
              "            style=\"display:none;\">\n",
              "\n",
              "  <svg xmlns=\"http://www.w3.org/2000/svg\" height=\"24px\" viewBox=\"0 -960 960 960\">\n",
              "    <path d=\"M120-120v-720h720v720H120Zm60-500h600v-160H180v160Zm220 220h160v-160H400v160Zm0 220h160v-160H400v160ZM180-400h160v-160H180v160Zm440 0h160v-160H620v160ZM180-180h160v-160H180v160Zm440 0h160v-160H620v160Z\"/>\n",
              "  </svg>\n",
              "    </button>\n",
              "\n",
              "  <style>\n",
              "    .colab-df-container {\n",
              "      display:flex;\n",
              "      gap: 12px;\n",
              "    }\n",
              "\n",
              "    .colab-df-convert {\n",
              "      background-color: #E8F0FE;\n",
              "      border: none;\n",
              "      border-radius: 50%;\n",
              "      cursor: pointer;\n",
              "      display: none;\n",
              "      fill: #1967D2;\n",
              "      height: 32px;\n",
              "      padding: 0 0 0 0;\n",
              "      width: 32px;\n",
              "    }\n",
              "\n",
              "    .colab-df-convert:hover {\n",
              "      background-color: #E2EBFA;\n",
              "      box-shadow: 0px 1px 2px rgba(60, 64, 67, 0.3), 0px 1px 3px 1px rgba(60, 64, 67, 0.15);\n",
              "      fill: #174EA6;\n",
              "    }\n",
              "\n",
              "    .colab-df-buttons div {\n",
              "      margin-bottom: 4px;\n",
              "    }\n",
              "\n",
              "    [theme=dark] .colab-df-convert {\n",
              "      background-color: #3B4455;\n",
              "      fill: #D2E3FC;\n",
              "    }\n",
              "\n",
              "    [theme=dark] .colab-df-convert:hover {\n",
              "      background-color: #434B5C;\n",
              "      box-shadow: 0px 1px 3px 1px rgba(0, 0, 0, 0.15);\n",
              "      filter: drop-shadow(0px 1px 2px rgba(0, 0, 0, 0.3));\n",
              "      fill: #FFFFFF;\n",
              "    }\n",
              "  </style>\n",
              "\n",
              "    <script>\n",
              "      const buttonEl =\n",
              "        document.querySelector('#df-d4472456-62a6-4169-a6c3-cf5fd410e04a button.colab-df-convert');\n",
              "      buttonEl.style.display =\n",
              "        google.colab.kernel.accessAllowed ? 'block' : 'none';\n",
              "\n",
              "      async function convertToInteractive(key) {\n",
              "        const element = document.querySelector('#df-d4472456-62a6-4169-a6c3-cf5fd410e04a');\n",
              "        const dataTable =\n",
              "          await google.colab.kernel.invokeFunction('convertToInteractive',\n",
              "                                                    [key], {});\n",
              "        if (!dataTable) return;\n",
              "\n",
              "        const docLinkHtml = 'Like what you see? Visit the ' +\n",
              "          '<a target=\"_blank\" href=https://colab.research.google.com/notebooks/data_table.ipynb>data table notebook</a>'\n",
              "          + ' to learn more about interactive tables.';\n",
              "        element.innerHTML = '';\n",
              "        dataTable['output_type'] = 'display_data';\n",
              "        await google.colab.output.renderOutput(dataTable, element);\n",
              "        const docLink = document.createElement('div');\n",
              "        docLink.innerHTML = docLinkHtml;\n",
              "        element.appendChild(docLink);\n",
              "      }\n",
              "    </script>\n",
              "  </div>\n",
              "\n",
              "\n",
              "    <div id=\"df-a955642a-caaf-4d8f-a291-524c1d6f2e6b\">\n",
              "      <button class=\"colab-df-quickchart\" onclick=\"quickchart('df-a955642a-caaf-4d8f-a291-524c1d6f2e6b')\"\n",
              "                title=\"Suggest charts\"\n",
              "                style=\"display:none;\">\n",
              "\n",
              "<svg xmlns=\"http://www.w3.org/2000/svg\" height=\"24px\"viewBox=\"0 0 24 24\"\n",
              "     width=\"24px\">\n",
              "    <g>\n",
              "        <path d=\"M19 3H5c-1.1 0-2 .9-2 2v14c0 1.1.9 2 2 2h14c1.1 0 2-.9 2-2V5c0-1.1-.9-2-2-2zM9 17H7v-7h2v7zm4 0h-2V7h2v10zm4 0h-2v-4h2v4z\"/>\n",
              "    </g>\n",
              "</svg>\n",
              "      </button>\n",
              "\n",
              "<style>\n",
              "  .colab-df-quickchart {\n",
              "      --bg-color: #E8F0FE;\n",
              "      --fill-color: #1967D2;\n",
              "      --hover-bg-color: #E2EBFA;\n",
              "      --hover-fill-color: #174EA6;\n",
              "      --disabled-fill-color: #AAA;\n",
              "      --disabled-bg-color: #DDD;\n",
              "  }\n",
              "\n",
              "  [theme=dark] .colab-df-quickchart {\n",
              "      --bg-color: #3B4455;\n",
              "      --fill-color: #D2E3FC;\n",
              "      --hover-bg-color: #434B5C;\n",
              "      --hover-fill-color: #FFFFFF;\n",
              "      --disabled-bg-color: #3B4455;\n",
              "      --disabled-fill-color: #666;\n",
              "  }\n",
              "\n",
              "  .colab-df-quickchart {\n",
              "    background-color: var(--bg-color);\n",
              "    border: none;\n",
              "    border-radius: 50%;\n",
              "    cursor: pointer;\n",
              "    display: none;\n",
              "    fill: var(--fill-color);\n",
              "    height: 32px;\n",
              "    padding: 0;\n",
              "    width: 32px;\n",
              "  }\n",
              "\n",
              "  .colab-df-quickchart:hover {\n",
              "    background-color: var(--hover-bg-color);\n",
              "    box-shadow: 0 1px 2px rgba(60, 64, 67, 0.3), 0 1px 3px 1px rgba(60, 64, 67, 0.15);\n",
              "    fill: var(--button-hover-fill-color);\n",
              "  }\n",
              "\n",
              "  .colab-df-quickchart-complete:disabled,\n",
              "  .colab-df-quickchart-complete:disabled:hover {\n",
              "    background-color: var(--disabled-bg-color);\n",
              "    fill: var(--disabled-fill-color);\n",
              "    box-shadow: none;\n",
              "  }\n",
              "\n",
              "  .colab-df-spinner {\n",
              "    border: 2px solid var(--fill-color);\n",
              "    border-color: transparent;\n",
              "    border-bottom-color: var(--fill-color);\n",
              "    animation:\n",
              "      spin 1s steps(1) infinite;\n",
              "  }\n",
              "\n",
              "  @keyframes spin {\n",
              "    0% {\n",
              "      border-color: transparent;\n",
              "      border-bottom-color: var(--fill-color);\n",
              "      border-left-color: var(--fill-color);\n",
              "    }\n",
              "    20% {\n",
              "      border-color: transparent;\n",
              "      border-left-color: var(--fill-color);\n",
              "      border-top-color: var(--fill-color);\n",
              "    }\n",
              "    30% {\n",
              "      border-color: transparent;\n",
              "      border-left-color: var(--fill-color);\n",
              "      border-top-color: var(--fill-color);\n",
              "      border-right-color: var(--fill-color);\n",
              "    }\n",
              "    40% {\n",
              "      border-color: transparent;\n",
              "      border-right-color: var(--fill-color);\n",
              "      border-top-color: var(--fill-color);\n",
              "    }\n",
              "    60% {\n",
              "      border-color: transparent;\n",
              "      border-right-color: var(--fill-color);\n",
              "    }\n",
              "    80% {\n",
              "      border-color: transparent;\n",
              "      border-right-color: var(--fill-color);\n",
              "      border-bottom-color: var(--fill-color);\n",
              "    }\n",
              "    90% {\n",
              "      border-color: transparent;\n",
              "      border-bottom-color: var(--fill-color);\n",
              "    }\n",
              "  }\n",
              "</style>\n",
              "\n",
              "      <script>\n",
              "        async function quickchart(key) {\n",
              "          const quickchartButtonEl =\n",
              "            document.querySelector('#' + key + ' button');\n",
              "          quickchartButtonEl.disabled = true;  // To prevent multiple clicks.\n",
              "          quickchartButtonEl.classList.add('colab-df-spinner');\n",
              "          try {\n",
              "            const charts = await google.colab.kernel.invokeFunction(\n",
              "                'suggestCharts', [key], {});\n",
              "          } catch (error) {\n",
              "            console.error('Error during call to suggestCharts:', error);\n",
              "          }\n",
              "          quickchartButtonEl.classList.remove('colab-df-spinner');\n",
              "          quickchartButtonEl.classList.add('colab-df-quickchart-complete');\n",
              "        }\n",
              "        (() => {\n",
              "          let quickchartButtonEl =\n",
              "            document.querySelector('#df-a955642a-caaf-4d8f-a291-524c1d6f2e6b button');\n",
              "          quickchartButtonEl.style.display =\n",
              "            google.colab.kernel.accessAllowed ? 'block' : 'none';\n",
              "        })();\n",
              "      </script>\n",
              "    </div>\n",
              "\n",
              "    </div>\n",
              "  </div>\n"
            ],
            "application/vnd.google.colaboratory.intrinsic+json": {
              "type": "dataframe",
              "summary": "{\n  \"name\": \"df\",\n  \"rows\": 8,\n  \"fields\": [\n    {\n      \"column\": \"Product ID\",\n      \"properties\": {\n        \"dtype\": \"number\",\n        \"std\": 70668.16852052967,\n        \"min\": 248.0,\n        \"max\": 199631.0,\n        \"num_unique_values\": 8,\n        \"samples\": [\n          153505.0806451613,\n          151806.0,\n          248.0\n        ],\n        \"semantic_type\": \"\",\n        \"description\": \"\"\n      }\n    },\n    {\n      \"column\": \"Sales Volume\",\n      \"properties\": {\n        \"dtype\": \"number\",\n        \"std\": 961.9955014714214,\n        \"min\": 248.0,\n        \"max\": 2989.0,\n        \"num_unique_values\": 8,\n        \"samples\": [\n          1828.6895161290322,\n          1839.5,\n          248.0\n        ],\n        \"semantic_type\": \"\",\n        \"description\": \"\"\n      }\n    },\n    {\n      \"column\": \"price\",\n      \"properties\": {\n        \"dtype\": \"number\",\n        \"std\": 80.81836369621087,\n        \"min\": 7.99,\n        \"max\": 248.0,\n        \"num_unique_values\": 8,\n        \"samples\": [\n          82.05499999999999,\n          69.945,\n          248.0\n        ],\n        \"semantic_type\": \"\",\n        \"description\": \"\"\n      }\n    }\n  ]\n}"
            }
          },
          "metadata": {},
          "execution_count": 24
        }
      ]
    },
    {
      "cell_type": "code",
      "source": [
        "non_numeric_cols = df.select_dtypes(exclude='number').columns\n",
        "print(\"Non-numeric columns excluded:\", non_numeric_cols.tolist())"
      ],
      "metadata": {
        "colab": {
          "base_uri": "https://localhost:8080/"
        },
        "id": "GAFExNiiMkk1",
        "outputId": "03eb52da-34c3-4da4-e648-787932bf4562"
      },
      "execution_count": 26,
      "outputs": [
        {
          "output_type": "stream",
          "name": "stdout",
          "text": [
            "Non-numeric columns excluded: ['Product Position', 'Promotion', 'Seasonal', 'name', 'terms', 'section']\n"
          ]
        }
      ]
    },
    {
      "cell_type": "code",
      "source": [
        "import pandas as pd\n",
        "\n",
        "# Load your dataset\n",
        "# df = pd.read_csv('your_file.csv')  # If you're loading from a file\n",
        "\n",
        "# Sample mapping for categorical columns\n",
        "\n",
        "# Convert 'Product Position' to numeric codes\n",
        "position_map = {'Aisle': 1, 'End-cap': 2, 'Front of Store': 3}\n",
        "df['Product Position'] = df['Product Position'].map(position_map)\n",
        "\n",
        "# Convert 'Promotion' and 'Seasonal' from Yes/No to 1/0\n",
        "bool_map = {'Yes': 1, 'No': 0}\n",
        "df['Promotion'] = df['Promotion'].map(bool_map)\n",
        "df['Seasonal'] = df['Seasonal'].map(bool_map)\n",
        "\n",
        "# Now calculate the correlation matrix (only numeric columns)\n",
        "correlation_matrix = df.select_dtypes(include='number').corr()\n",
        "\n",
        "print(correlation_matrix)\n"
      ],
      "metadata": {
        "colab": {
          "base_uri": "https://localhost:8080/"
        },
        "id": "8Ql3SAanQ6T5",
        "outputId": "c617ecbb-6ae1-4b31-fe4c-8d83887c8744"
      },
      "execution_count": 27,
      "outputs": [
        {
          "output_type": "stream",
          "name": "stdout",
          "text": [
            "                  Product ID  Product Position  Promotion  Seasonal  \\\n",
            "Product ID          1.000000          0.079384   0.116665 -0.058930   \n",
            "Product Position    0.079384          1.000000  -0.012690 -0.053032   \n",
            "Promotion           0.116665         -0.012690   1.000000 -0.007166   \n",
            "Seasonal           -0.058930         -0.053032  -0.007166  1.000000   \n",
            "Sales Volume       -0.120866          0.026250   0.012816 -0.001641   \n",
            "price              -0.061146         -0.006823   0.091813 -0.011704   \n",
            "\n",
            "                  Sales Volume     price  \n",
            "Product ID           -0.120866 -0.061146  \n",
            "Product Position      0.026250 -0.006823  \n",
            "Promotion             0.012816  0.091813  \n",
            "Seasonal             -0.001641 -0.011704  \n",
            "Sales Volume          1.000000 -0.033593  \n",
            "price                -0.033593  1.000000  \n"
          ]
        },
        {
          "output_type": "stream",
          "name": "stderr",
          "text": [
            "<ipython-input-27-a5e509e9de69>:10: SettingWithCopyWarning: \n",
            "A value is trying to be set on a copy of a slice from a DataFrame.\n",
            "Try using .loc[row_indexer,col_indexer] = value instead\n",
            "\n",
            "See the caveats in the documentation: https://pandas.pydata.org/pandas-docs/stable/user_guide/indexing.html#returning-a-view-versus-a-copy\n",
            "  df['Product Position'] = df['Product Position'].map(position_map)\n",
            "<ipython-input-27-a5e509e9de69>:14: SettingWithCopyWarning: \n",
            "A value is trying to be set on a copy of a slice from a DataFrame.\n",
            "Try using .loc[row_indexer,col_indexer] = value instead\n",
            "\n",
            "See the caveats in the documentation: https://pandas.pydata.org/pandas-docs/stable/user_guide/indexing.html#returning-a-view-versus-a-copy\n",
            "  df['Promotion'] = df['Promotion'].map(bool_map)\n",
            "<ipython-input-27-a5e509e9de69>:15: SettingWithCopyWarning: \n",
            "A value is trying to be set on a copy of a slice from a DataFrame.\n",
            "Try using .loc[row_indexer,col_indexer] = value instead\n",
            "\n",
            "See the caveats in the documentation: https://pandas.pydata.org/pandas-docs/stable/user_guide/indexing.html#returning-a-view-versus-a-copy\n",
            "  df['Seasonal'] = df['Seasonal'].map(bool_map)\n"
          ]
        }
      ]
    },
    {
      "cell_type": "markdown",
      "source": [
        "### ✅ Insight:\n",
        "- Converted categorical variables into numeric formats to enable correlation analysis.\n",
        "- The resulting correlation matrix indicates minimal multicollinearity — suggesting low interdependence among features, making them suitable for independent modeling and analysis."
      ],
      "metadata": {
        "id": "6FZHuWmlfadK"
      }
    },
    {
      "cell_type": "markdown",
      "source": [
        "## 📈 9. Visual Analysis of Feature Relationships"
      ],
      "metadata": {
        "id": "ZS8C2p-YfbTX"
      }
    },
    {
      "cell_type": "code",
      "source": [
        "chrome_yellow = \"#F7D400\"      # Chrome Yellow\n",
        "sage_green = \"#9DC183\"         # Sage Green\n",
        "ocean_blue = \"#1CA9C9\"         # Ocean Blue\n",
        "\n",
        "custom_palette = [sage_green, ocean_blue, chrome_yellow]\n",
        "\n",
        "fig, axes = plt.subplots(2, 2, figsize=(16, 12))\n",
        "axes = axes.flatten()\n",
        "\n",
        "# Promotion vs Section\n",
        "sns.countplot(x='Promotion', hue='section', data=df, palette=custom_palette, ax=axes[0])\n",
        "axes[0].set_title('Promotion vs Section')\n",
        "axes[0].tick_params(axis='x', rotation=0)\n",
        "\n",
        "# Promotion vs Product Position\n",
        "sns.countplot(x='Promotion', hue='Product Position', data=df, palette=custom_palette[:3], ax=axes[1])\n",
        "axes[1].set_title('Promotion vs Product Position')\n",
        "axes[1].tick_params(axis='x', rotation=20)\n",
        "\n",
        "# Product Position vs Section\n",
        "sns.countplot(x='Product Position', hue='section', data=df, palette=custom_palette, ax=axes[2])\n",
        "axes[2].set_title('Product Position vs Section')\n",
        "axes[2].tick_params(axis='x', rotation=20)\n",
        "fig.delaxes(axes[3])\n",
        "\n",
        "plt.tight_layout()"
      ],
      "metadata": {
        "colab": {
          "base_uri": "https://localhost:8080/",
          "height": 967
        },
        "id": "XoBG3bqlVwtx",
        "outputId": "1456feae-b589-4569-8218-8052c29b0fb0"
      },
      "execution_count": 42,
      "outputs": [
        {
          "output_type": "stream",
          "name": "stderr",
          "text": [
            "<ipython-input-42-3c81cdf443fb>:14: UserWarning: The palette list has more values (3) than needed (2), which may not be intended.\n",
            "  sns.countplot(x='Promotion', hue='section', data=df, palette=custom_palette, ax=axes[0])\n",
            "<ipython-input-42-3c81cdf443fb>:24: UserWarning: The palette list has more values (3) than needed (2), which may not be intended.\n",
            "  sns.countplot(x='Product Position', hue='section', data=df, palette=custom_palette, ax=axes[2])\n"
          ]
        },
        {
          "output_type": "display_data",
          "data": {
            "text/plain": [
              "<Figure size 1600x1200 with 3 Axes>"
            ],
            "image/png": "[encoded data removed]"
          },
          "metadata": {}
        }
      ]
    },
    {
      "cell_type": "markdown",
      "source": [
        "### ✅ Insight:\n",
        "- Identified interaction patterns between promotion, position, and store sections.\n",
        "- No strong associations observed among combinations, limiting actionable conclusions from these relationships."
      ],
      "metadata": {
        "id": "pcJEL1b8fncL"
      }
    },
    {
      "cell_type": "markdown",
      "source": [
        "## 🧾 Conclusion\n",
        "- The Zara sales dataset was successfully imported, inspected, and cleaned.\n",
        "\n",
        "- Missing values were minimal, limited to three entries in non-critical columns, and no duplicates were found.\n",
        "\n",
        "- Irrelevant columns were removed, leaving a refined dataset with only one null entry.\n",
        "\n",
        "- Outlier analysis showed no anomalies in Sales Volume, but Price had extreme values (2.5x–4x the mean) which were removed using Z-score thresholding.\n",
        "\n",
        "- Categorical features were converted to numeric for correlation analysis, revealing low inter-feature correlation—indicating minimal multicollinearity.\n",
        "\n",
        "- Exploratory visualizations showed weak or no significant interactions between product position, promotions, and store sections, suggesting these features may have limited predictive power in isolation.\n"
      ],
      "metadata": {
        "id": "4nxkZXvRfoKq"
      }
    },
    {
      "cell_type": "markdown",
      "source": [
        "##The dataset is now clean and well-prepared for modeling or further business analysis, with low redundancy, no severe data quality issues, and minimal feature dependency."
      ],
      "metadata": {
        "id": "BpV0Et-ElTVT"
      }
    }
  ]
}